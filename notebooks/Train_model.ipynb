{
 "metadata": {
  "language_info": {
   "codemirror_mode": {
    "name": "ipython",
    "version": 3
   },
   "file_extension": ".py",
   "mimetype": "text/x-python",
   "name": "python",
   "nbconvert_exporter": "python",
   "pygments_lexer": "ipython3",
   "version": "3.7.1-final"
  },
  "orig_nbformat": 2,
  "kernelspec": {
   "name": "python37164bitlangvirtualenv1cef6aba05914c58838b055d2f005054",
   "display_name": "Python 3.7.1 64-bit ('Lang': virtualenv)"
  }
 },
 "nbformat": 4,
 "nbformat_minor": 2,
 "cells": [
  {
   "cell_type": "markdown",
   "metadata": {},
   "source": [
    "# Training the model on your Facebook data"
   ]
  },
  {
   "cell_type": "markdown",
   "metadata": {},
   "source": [
    "## Extracting your facebook data\n",
    "\n",
    "Downloading your facbook data is actually pretty simple! From the FaceBook website go to Settings -> Your FaceBook Information -> Download your information. From here you may tailor how much data you would like to download. Note typically these files are very large in size and that FaceBook may take a few days to give you the data.\n",
    "\n",
    "For this project all that is required is your **messages** data, downloaded as a **high** quality **JSON** file. "
   ]
  },
  {
   "cell_type": "code",
   "execution_count": 2,
   "metadata": {},
   "outputs": [],
   "source": [
    "import sys\n",
    "sys.path.append('../')\n",
    "from src.data.make_dataset import data\n",
    "from src.models import predict_model, train_model\n",
    "from imp import reload"
   ]
  },
  {
   "cell_type": "code",
   "execution_count": 3,
   "metadata": {},
   "outputs": [],
   "source": [
    "raw_data_path = None"
   ]
  },
  {
   "cell_type": "code",
   "execution_count": null,
   "metadata": {},
   "outputs": [],
   "source": [
    "Data = data(input_filepath = raw_data_path, output_filepath = '../data/processed')"
   ]
  },
  {
   "cell_type": "code",
   "execution_count": null,
   "metadata": {},
   "outputs": [],
   "source": [
    "Data.encode(input_filepath = '..\\data\\processed\\GurbirSinghJohal_vLCZzZ04BQ\\Gurbir_Singh_Johal_messages.txt')"
   ]
  },
  {
   "cell_type": "code",
   "execution_count": null,
   "metadata": {},
   "outputs": [],
   "source": []
  }
 ]
}